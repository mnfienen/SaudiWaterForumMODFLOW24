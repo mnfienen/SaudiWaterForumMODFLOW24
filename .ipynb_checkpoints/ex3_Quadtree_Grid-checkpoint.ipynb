{
 "cells": [
  {
   "cell_type": "markdown",
   "id": "f8b3f299-a029-4cc0-892d-c1286a957a4e",
   "metadata": {},
   "source": [
    "# Example 3 -- Quadtree Grid"
   ]
  },
  {
   "cell_type": "code",
   "execution_count": null,
   "id": "19492beb-e1c7-4b24-bcdb-73581bc76730",
   "metadata": {
    "tags": []
   },
   "outputs": [],
   "source": [
    "# import Python packages used for this example\n",
    "import pathlib as pl\n",
    "import matplotlib.pyplot as plt\n",
    "import numpy as np\n",
    "from shapely.geometry import Polygon, LineString\n",
    "import flopy\n",
    "from flopy.utils.gridgen import Gridgen\n",
    "import geopandas as gp"
   ]
  },
  {
   "cell_type": "code",
   "execution_count": null,
   "id": "1137e42b-068b-47dd-85ed-c855163b2f9c",
   "metadata": {
    "tags": []
   },
   "outputs": [],
   "source": [
    "# set up paths\n",
    "ws = './ex3'\n",
    "name = 'mymodel'\n",
    "gridgen_ws = pl.Path(ws, \"gridgen\")\n",
    "gridgen_ws.mkdir(parents=True, exist_ok=True)"
   ]
  },
  {
   "cell_type": "markdown",
   "id": "67884089-82bf-4b71-a500-ca0f4634f7ea",
   "metadata": {},
   "source": [
    "# We will work with the same outline of the Kingdom of Saudi Arabia so we can compress the preprocessing steps here "
   ]
  },
  {
   "cell_type": "code",
   "execution_count": null,
   "id": "78352095-4a99-4c3c-9d86-2d1f8178ed75",
   "metadata": {},
   "outputs": [],
   "source": [
    "domaingdf = gp.read_file('./data/ksa_outline.json').to_crs(8836)\n",
    "bounds = domaingdf.bounds\n",
    "domain =domaingdf.geometry.values[0]\n",
    "# define the model grid\n",
    "Lx = bounds.maxx.values[0]-bounds.minx.values[0]\n",
    "Ly = bounds.maxy.values[0]- bounds.miny.values[0]\n",
    "nlay = 1\n",
    "nrow = 10\n",
    "delc = np.ceil(Ly / nrow) * np.ones(nrow, dtype=float)\n",
    "ncol = np.ceil(Lx / delc[0]).astype(int)\n",
    "delr = delc[0] * np.ones(ncol, dtype=float)\n",
    "top = 50 * np.ones((nrow, ncol), dtype=float)\n",
    "botm = -5000 * np.ones((nlay, nrow, ncol), dtype=float)\n",
    "\n",
    "# create a flopy grid object, which can be used for intersections\n",
    "sg = flopy.discretization.StructuredGrid(\n",
    "    nlay=nlay,\n",
    "    nrow=nrow,\n",
    "    ncol=ncol,\n",
    "    delr=delr,\n",
    "    delc=delc,\n",
    "    top=top,\n",
    "    botm=botm,\n",
    "    xoff=bounds.minx.values[0],\n",
    "    yoff=bounds.miny.values[0],angrot=0, crs=8836\n",
    ")"
   ]
  },
  {
   "cell_type": "markdown",
   "id": "a7c75791-db26-493c-b266-e566aaca4c42",
   "metadata": {},
   "source": [
    "## Now, say we wanted to refine the grid around the City of Riyadh?"
   ]
  },
  {
   "cell_type": "code",
   "execution_count": null,
   "id": "32bce374-197a-4e13-bf03-a5a5eb9931dc",
   "metadata": {},
   "outputs": [],
   "source": [
    "riyadh = gp.read_file('./data/citylocation.geojson').to_crs(domaingdf.crs)"
   ]
  },
  {
   "cell_type": "code",
   "execution_count": null,
   "id": "3793e72b-b966-4f0d-a2bb-b5a37a18413b",
   "metadata": {},
   "outputs": [],
   "source": [
    "ax = domaingdf.plot()\n",
    "rbuf = riyadh.buffer(2e5)\n",
    "rbuf.plot(ax=ax, color='orange')\n",
    "riyadh.plot(ax=ax,marker='x')\n"
   ]
  },
  {
   "cell_type": "markdown",
   "id": "5bcc4244-573a-4501-8bc5-d62cf1358e75",
   "metadata": {},
   "source": [
    "# Now rather than setting the rows and columns for the model, we can make a refined area with verious levels of quadtree refinement. Let's refine around the boundary line and also a buffer around the City of Riyadh"
   ]
  },
  {
   "cell_type": "code",
   "execution_count": null,
   "id": "1552635e-60c8-465f-b514-7bf0ffd84ef2",
   "metadata": {
    "tags": []
   },
   "outputs": [],
   "source": [
    "# Use Gridgen to create the unstructured grid\n",
    "g = Gridgen(sg, model_ws=gridgen_ws, surface_interpolation=\"interpolate\")\n",
    "g.add_active_domain([domain], range(nlay))\n",
    "g.add_refinement_features([domain.boundary], \"line\", level=1, layers=range(nlay))\n",
    "g.add_refinement_features([rbuf[0]], \"polygon\", level=2, layers=range(nlay))\n",
    "g.build()\n",
    "g.plot()"
   ]
  },
  {
   "cell_type": "code",
   "execution_count": null,
   "id": "e03b2b97-f88a-4beb-b864-b131de8d3515",
   "metadata": {},
   "outputs": [],
   "source": [
    "# create the flopy representation of the MODFLOW simulation\n",
    "sim = flopy.mf6.MFSimulation(sim_name=name, sim_ws=ws, exe_name='mf6')\n",
    "tdis = flopy.mf6.ModflowTdis(sim)\n",
    "ims = flopy.mf6.ModflowIms(sim, print_option=\"all\", inner_maximum=100)\n",
    "gwf = flopy.mf6.ModflowGwf(sim, modelname=name, save_flows=True)\n",
    "gridprops_disv = g.get_gridprops_disv()\n",
    "disv = flopy.mf6.ModflowGwfdisv(\n",
    "    gwf, **gridprops_disv)\n",
    "ic = flopy.mf6.ModflowGwfic(gwf, strt=gridprops_disv[\"top\"])\n",
    "npf = flopy.mf6.ModflowGwfnpf(gwf, save_specific_discharge=True, icelltype=1)\n",
    "\n",
    "gi = flopy.utils.GridIntersect(gwf.modelgrid)\n",
    "ls = domain.boundary\n",
    "chdspd = [[(0, j), 1.] for j in np.array(gi.intersects(ls)[\"cellids\"], dtype=int)]\n",
    "chd = flopy.mf6.ModflowGwfchd(gwf, stress_period_data=chdspd)\n",
    "rch = flopy.mf6.ModflowGwfrcha(gwf, recharge=0.00001)\n",
    "oc = flopy.mf6.ModflowGwfoc(gwf,\n",
    "                            budget_filerecord=f\"{name}.bud\",\n",
    "                            head_filerecord=f\"{name}.hds\",\n",
    "                            printrecord=[('HEAD', 'ALL'), ('BUDGET', 'ALL')],\n",
    "                            saverecord=[('HEAD', 'ALL'), ('BUDGET', 'ALL')])"
   ]
  },
  {
   "cell_type": "code",
   "execution_count": null,
   "id": "cb5cb90e-e01c-4a44-9b60-bcb65d0a2696",
   "metadata": {},
   "outputs": [],
   "source": [
    "# write the MODFLOW input files\n",
    "sim.write_simulation()"
   ]
  },
  {
   "cell_type": "code",
   "execution_count": null,
   "id": "7fa0d737-49bf-4f61-b358-af6f0922ff55",
   "metadata": {},
   "outputs": [],
   "source": [
    "# run the MODFLOW simulation\n",
    "sim.run_simulation()"
   ]
  },
  {
   "cell_type": "code",
   "execution_count": null,
   "id": "2ac0b788-87e5-4a52-a666-a69ce5e55d3a",
   "metadata": {},
   "outputs": [],
   "source": [
    "# load the output from the simulation\n",
    "head = gwf.output.head().get_data()\n",
    "bud = gwf.output.budget()\n",
    "spdis = bud.get_data(text='DATA-SPDIS')[0]\n",
    "qx, qy, qz = flopy.utils.postprocessing.get_specific_discharge(spdis, gwf)"
   ]
  },
  {
   "cell_type": "code",
   "execution_count": null,
   "id": "2424cbe7-9f4a-4797-b5e0-8cd9bf8cb9ed",
   "metadata": {
    "tags": []
   },
   "outputs": [],
   "source": [
    "###### create a plot of the model results\n",
    "fig, axes = plt.subplots(2, 1, figsize=(8, 11))\n",
    "ax = axes[0]\n",
    "ax.set_title(\"Map View\")\n",
    "ax.set_aspect(1)\n",
    "ax.set_xlabel(\"x\")\n",
    "ax.set_ylabel(\"y\")\n",
    "pmv = flopy.plot.PlotMapView(gwf, ax=ax)\n",
    "pmv.plot_bc(ftype=\"CHD\")\n",
    "pmv.plot_grid(color=\"black\", linewidth=0.5)\n",
    "h = pmv.plot_array(head)\n",
    "pmv.plot_vector(qx, qy, normalize=True, color=\"grey\", istep=1, jstep=1)\n",
    "pmv.contour_array(head)\n",
    "plt.colorbar(h, shrink=.6)\n",
    "\n",
    "\n",
    "ax = axes[1]\n",
    "ax.set_title(\"Cross Section\")\n",
    "ax.set_aspect(10.)\n",
    "ax.set_xlabel(\"x\")\n",
    "ax.set_ylabel(\"z\")\n",
    "pxs = flopy.plot.PlotCrossSection(gwf, ax=ax, line={\"line\": [(1.5e6, 2.0e6), (1e6, 3.5e6)]})\n",
    "pxs.plot_bc(ftype=\"CHD\")\n",
    "pxs.plot_array(head, head=head)\n",
    "pxs.plot_grid(color=\"black\", linewidth=0.5)\n",
    "plt.tight_layout()"
   ]
  }
 ],
 "metadata": {
  "kernelspec": {
   "display_name": "Python 3 (ipykernel)",
   "language": "python",
   "name": "python3"
  },
  "language_info": {
   "codemirror_mode": {
    "name": "ipython",
    "version": 3
   },
   "file_extension": ".py",
   "mimetype": "text/x-python",
   "name": "python",
   "nbconvert_exporter": "python",
   "pygments_lexer": "ipython3",
   "version": "3.11.8"
  }
 },
 "nbformat": 4,
 "nbformat_minor": 5
}
