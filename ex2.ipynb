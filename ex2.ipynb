{
 "cells": [
  {
   "cell_type": "markdown",
   "id": "d844cbe8-0317-4f74-8fcd-3e93f61c00cc",
   "metadata": {},
   "source": [
    "# Example 2 -- Regular Grid\n",
    "\n",
    "# Let's make a simple model in the shape of the Kingdom of Saudi Arabia"
   ]
  },
  {
   "cell_type": "code",
   "execution_count": null,
   "id": "6957530d-ca08-4322-89ac-11eceabbcdc4",
   "metadata": {
    "tags": []
   },
   "outputs": [],
   "source": [
    "# import Python packages used for this example\n",
    "import matplotlib.pyplot as plt\n",
    "import numpy as np\n",
    "from shapely.geometry import Polygon, LineString\n",
    "import flopy\n",
    "import geopandas as gp"
   ]
  },
  {
   "cell_type": "markdown",
   "id": "43e13cff-f77d-4e41-bcbf-2ef8f8ff06ec",
   "metadata": {},
   "source": [
    "## Let's read in a simplified shapefile of the boundaries for the Kingdom of Saudi Arabia"
   ]
  },
  {
   "cell_type": "code",
   "execution_count": null,
   "id": "b227084e-cc2d-4e0d-a6ae-94543c343083",
   "metadata": {},
   "outputs": [],
   "source": [
    "domaingdf = gp.read_file('./data/ksa_outline.json').to_crs(8836)\n",
    "domaingdf.plot()"
   ]
  },
  {
   "cell_type": "code",
   "execution_count": null,
   "id": "14d4ca12-6eae-4654-a51c-f41847b2268b",
   "metadata": {},
   "outputs": [],
   "source": [
    "bounds = domaingdf.bounds\n",
    "bounds"
   ]
  },
  {
   "cell_type": "markdown",
   "id": "9861be3e-4c74-4e08-a118-d2eadedf6c5e",
   "metadata": {},
   "source": [
    "## We need the bounds to create a grid. We can also choose how to discretize space and time (assuming steady-state for this example)"
   ]
  },
  {
   "cell_type": "code",
   "execution_count": null,
   "id": "6662efc1-cb59-45ba-b27e-27417ab8313a",
   "metadata": {},
   "outputs": [],
   "source": [
    "domain =domaingdf.geometry.values[0]\n"
   ]
  },
  {
   "cell_type": "code",
   "execution_count": null,
   "id": "b8609882-2524-4219-8521-f4eda47b4122",
   "metadata": {
    "tags": []
   },
   "outputs": [],
   "source": [
    "# define the model grid\n",
    "Lx = bounds.maxx.values[0]-bounds.minx.values[0]\n",
    "Ly = bounds.maxy.values[0]- bounds.miny.values[0]\n",
    "nlay = 1\n",
    "nrow = 60\n",
    "delc = np.ceil(Ly / nrow) * np.ones(nrow, dtype=float)\n",
    "ncol = np.ceil(Lx / delc[0]).astype(int)\n",
    "delr = delc[0] * np.ones(ncol, dtype=float)\n",
    "top = 50 * np.ones((nrow, ncol), dtype=float)\n",
    "botm = -10000 * np.ones((nlay, nrow, ncol), dtype=float)\n",
    "\n",
    "# create a flopy grid object, which can be used for intersections\n",
    "sg = flopy.discretization.StructuredGrid(\n",
    "    nlay=nlay,\n",
    "    nrow=nrow,\n",
    "    ncol=ncol,\n",
    "    delr=delr,\n",
    "    delc=delc,\n",
    "    top=top,\n",
    "    botm=botm\n",
    ")\n"
   ]
  },
  {
   "cell_type": "markdown",
   "id": "8b06b326-1c7e-41e8-be9c-46eeebc280ed",
   "metadata": {},
   "source": [
    "## Note that this is not registered to the specific location on the earth"
   ]
  },
  {
   "cell_type": "code",
   "execution_count": null,
   "id": "bff003d4-0048-498b-a5e0-d430d109d075",
   "metadata": {},
   "outputs": [],
   "source": [
    "fig,ax = plt.subplots(1,2,figsize=(8,4))\n",
    "sg.plot(ax=ax[0])\n",
    "domaingdf.plot(ax=ax[1])\n",
    "plt.axis('equal')"
   ]
  },
  {
   "cell_type": "markdown",
   "id": "edc93a63-850e-43ae-802a-bffef18a06e2",
   "metadata": {},
   "source": [
    "## We can register it, using the local bounds of the original shape"
   ]
  },
  {
   "cell_type": "code",
   "execution_count": null,
   "id": "aa2f5233-897c-49cb-9f13-278efcc6def0",
   "metadata": {},
   "outputs": [],
   "source": [
    "sg.set_coord_info(xoff=bounds.minx.values[0],\n",
    "    yoff=bounds.miny.values[0],angrot=0, crs=2318)\n",
    "fig,ax = plt.subplots(1,2,figsize=(8,4))\n",
    "sg.plot(ax=ax[0])\n",
    "domaingdf.plot(ax=ax[1])\n",
    "plt.axis('equal')"
   ]
  },
  {
   "cell_type": "markdown",
   "id": "6d0b34b6-0d10-486d-bc51-7fe8f7d9aef0",
   "metadata": {},
   "source": [
    "## Now we set `idomain` - special array to indicate which cells are active and which are not"
   ]
  },
  {
   "cell_type": "code",
   "execution_count": null,
   "id": "58985e20-8cf3-4717-b397-e4cb2894b2b3",
   "metadata": {
    "tags": []
   },
   "outputs": [],
   "source": [
    "# create an idomain indicator array\n",
    "idomain = np.zeros((nlay, nrow, ncol), dtype=int)\n",
    "gi = flopy.utils.GridIntersect(sg)\n",
    "\n",
    "# inside domain polygon (idomain = 1)\n",
    "ixp = gi.intersect(domain)\n",
    "for i, j in ixp[\"cellids\"]:\n",
    "    idomain[:, i, j] = 1\n",
    "\n",
    "# touching domain polygon (idomain = 2)\n",
    "ls = LineString([p for p in domain.exterior.coords])    \n",
    "ixl = gi.intersect(ls)\n",
    "for i, j in ixl[\"cellids\"]:\n",
    "    idomain[:, i, j] = 2\n",
    "    \n",
    "pmv = flopy.plot.PlotMapView(modelgrid=sg)\n",
    "pmv.plot_grid()\n",
    "cb = pmv.plot_array(idomain)\n",
    "plt.colorbar(cb, shrink=.5)"
   ]
  },
  {
   "cell_type": "markdown",
   "id": "41084624-4e0d-4b06-bcd4-4053193550dd",
   "metadata": {},
   "source": [
    "# We need to make all the model components as python objects"
   ]
  },
  {
   "cell_type": "markdown",
   "id": "7ca17898-c874-45f9-8cb0-7acc30ca3373",
   "metadata": {},
   "source": [
    "## First the overall simulation (including timing)"
   ]
  },
  {
   "cell_type": "code",
   "execution_count": null,
   "id": "373c79dc-3f66-4bba-8612-f98ed4bec3f6",
   "metadata": {},
   "outputs": [],
   "source": [
    "# create the flopy representation of the MODFLOW simulation\n",
    "ws = './ex2'\n",
    "name = 'mymodel'\n",
    "sim = flopy.mf6.MFSimulation(sim_name=name, sim_ws=ws, exe_name='mf6')\n",
    "tdis = flopy.mf6.ModflowTdis(sim, nper=1, perioddata=[1,1,1])"
   ]
  },
  {
   "cell_type": "markdown",
   "id": "985d18d7-1dee-43d9-ab9a-209b2c7a6e6f",
   "metadata": {},
   "source": [
    "## Next, need to make a solver and a `gwf` model (for groundwater flow)"
   ]
  },
  {
   "cell_type": "code",
   "execution_count": null,
   "id": "27ca2750-e06a-4eee-9ba0-d3c2c489fcce",
   "metadata": {},
   "outputs": [],
   "source": [
    "ims = flopy.mf6.ModflowIms(sim, print_option=\"all\", inner_maximum=100)\n",
    "gwf = flopy.mf6.ModflowGwf(sim, modelname=name, save_flows=True)"
   ]
  },
  {
   "cell_type": "markdown",
   "id": "c7686dbb-a488-4278-9687-4004651bb767",
   "metadata": {},
   "source": [
    "## Finally, the other packages including:\n",
    "  - Discretization (spatial information: `dis`)\n",
    "  - Initial conditions (`ic`)\n",
    "  - Hydraulic Conductivity properties (`npf`)\n",
    "  - Constant head boundaries (`chd`)\n",
    "  - recharge (`rch`)\n",
    "  - Output control (`oc`)"
   ]
  },
  {
   "cell_type": "code",
   "execution_count": null,
   "id": "292ffc57-e636-47ec-93d8-cd8520e04640",
   "metadata": {},
   "outputs": [],
   "source": [
    "dis = flopy.mf6.ModflowGwfdis(\n",
    "    gwf, nlay=nlay, nrow=nrow, ncol=ncol, delr=delr, delc=delc, \n",
    "    top=top, botm=botm, idomain=idomain)\n",
    "ic = flopy.mf6.ModflowGwfic(gwf, strt=top)\n",
    "npf = flopy.mf6.ModflowGwfnpf(gwf, save_specific_discharge=True, icelltype=1)\n",
    "chdspd = [[(0, i, j), 1.] for i, j in ixl[\"cellids\"]]\n",
    "chd = flopy.mf6.ModflowGwfchd(gwf, stress_period_data=chdspd)\n",
    "rch = flopy.mf6.ModflowGwfrcha(gwf, recharge=0.0001)\n",
    "oc = flopy.mf6.ModflowGwfoc(gwf,\n",
    "                            budget_filerecord=f\"{name}.bud\",\n",
    "                            head_filerecord=f\"{name}.hds\",\n",
    "                            printrecord=[('HEAD', 'ALL'), ('BUDGET', 'ALL')],\n",
    "                            saverecord=[('HEAD', 'ALL'), ('BUDGET', 'ALL')])"
   ]
  },
  {
   "cell_type": "code",
   "execution_count": null,
   "id": "15461ad8-f1f3-45ac-aea2-9e2a00105161",
   "metadata": {},
   "outputs": [],
   "source": [
    "# write the MODFLOW input files\n",
    "sim.write_simulation()"
   ]
  },
  {
   "cell_type": "code",
   "execution_count": null,
   "id": "bbc0bf97-b5c2-4acc-b6dc-084c46a9b53a",
   "metadata": {},
   "outputs": [],
   "source": [
    "# run the MODFLOW simulation\n",
    "sim.run_simulation()"
   ]
  },
  {
   "cell_type": "markdown",
   "id": "b751d29e-f831-4952-9fa9-a90e98a07293",
   "metadata": {},
   "source": [
    "## now let's load up the head and budget information to visualize"
   ]
  },
  {
   "cell_type": "code",
   "execution_count": null,
   "id": "5859af58-a570-4f33-9069-9d445ef6dc85",
   "metadata": {},
   "outputs": [],
   "source": [
    "# load the output from the simulation\n",
    "head = gwf.output.head().get_data()\n",
    "bud = gwf.output.budget()\n",
    "spdis = bud.get_data(text='DATA-SPDIS')[0]\n",
    "qx, qy, qz = flopy.utils.postprocessing.get_specific_discharge(spdis, gwf)"
   ]
  },
  {
   "cell_type": "code",
   "execution_count": null,
   "id": "7a61108b-f9ab-4bad-b88e-f0bba8448cc6",
   "metadata": {},
   "outputs": [],
   "source": [
    "# create a plot of the model results\n",
    "fig, axes = plt.subplots(2, 1, figsize=(8, 11))\n",
    "ax = axes[0]\n",
    "ax.set_title(\"Map View\")\n",
    "ax.set_aspect(1)\n",
    "ax.set_xlabel(\"x\")\n",
    "ax.set_ylabel(\"y\")\n",
    "pmv = flopy.plot.PlotMapView(gwf, ax=ax)\n",
    "pmv.plot_bc(ftype=\"CHD\")\n",
    "pmv.plot_inactive(color_noflow=\"gray\")\n",
    "pmv.plot_grid(color=\"black\", linewidth=0.5)\n",
    "pmv.plot_vector(qx, qy, normalize=True, color=\"black\", istep=1, jstep=1)\n",
    "h = pmv.contour_array(head)\n",
    "plt.colorbar(h, shrink=.6)\n",
    "\n",
    "ax = axes[1]\n",
    "ax.set_title(\"Cross Section\")\n",
    "ax.set_aspect(10.)\n",
    "ax.set_xlabel(\"x\")\n",
    "ax.set_ylabel(\"z\")\n",
    "pxs = flopy.plot.PlotCrossSection(gwf, ax=ax, line={\"row\": int(nrow/2)})\n",
    "pxs.plot_inactive(color_noflow=\"gray\")\n",
    "pxs.plot_bc(ftype=\"CHD\")\n",
    "h2 = pxs.plot_array(head, head=head)\n",
    "pxs.plot_grid(color=\"black\", linewidth=0.5)\n",
    "plt.colorbar(h2, shrink=.3)\n",
    "plt.tight_layout()"
   ]
  },
  {
   "cell_type": "code",
   "execution_count": null,
   "id": "970d8082-e8fd-4638-807d-adaf350c4e3d",
   "metadata": {},
   "outputs": [],
   "source": []
  },
  {
   "cell_type": "code",
   "execution_count": null,
   "id": "3ee9f868-d609-4c66-b893-18c9165766c6",
   "metadata": {},
   "outputs": [],
   "source": []
  }
 ],
 "metadata": {
  "kernelspec": {
   "display_name": "Python 3 (ipykernel)",
   "language": "python",
   "name": "python3"
  },
  "language_info": {
   "codemirror_mode": {
    "name": "ipython",
    "version": 3
   },
   "file_extension": ".py",
   "mimetype": "text/x-python",
   "name": "python",
   "nbconvert_exporter": "python",
   "pygments_lexer": "ipython3",
   "version": "3.11.8"
  }
 },
 "nbformat": 4,
 "nbformat_minor": 5
}
