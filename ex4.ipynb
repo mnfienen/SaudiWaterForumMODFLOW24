{
 "cells": [
  {
   "cell_type": "markdown",
   "id": "bf8f7154-6572-426c-8248-27c0dc6a46b7",
   "metadata": {},
   "source": [
    "# Example 4 -- Voronoi Grid"
   ]
  },
  {
   "cell_type": "code",
   "execution_count": null,
   "id": "3cc1605f-cbcc-411e-81e7-2876308b3b56",
   "metadata": {
    "tags": []
   },
   "outputs": [],
   "source": [
    "# import Python packages used for this example\n",
    "import pathlib as pl\n",
    "import matplotlib.pyplot as plt\n",
    "import numpy as np\n",
    "from shapely.geometry import Polygon, LineString\n",
    "import flopy\n",
    "import flopy.utils.triangle\n",
    "import flopy.utils.voronoi\n",
    "import geopandas as gp"
   ]
  },
  {
   "cell_type": "code",
   "execution_count": null,
   "id": "96e625c9-f400-41d3-bf18-f2d74afc9a9e",
   "metadata": {
    "tags": []
   },
   "outputs": [],
   "source": [
    "# set up paths\n",
    "ws = './ex4'\n",
    "name = 'mymodel'\n",
    "triangle_ws = pl.Path(ws, \"triangle\")\n",
    "triangle_ws.mkdir(parents=True, exist_ok=True)"
   ]
  },
  {
   "cell_type": "code",
   "execution_count": null,
   "id": "18f04507-e963-4e38-82be-d78b4b21c5a9",
   "metadata": {
    "tags": []
   },
   "outputs": [],
   "source": [
    "domaingdf = gp.read_file('./data/ksa_outline.json').to_crs(8836)\n",
    "bounds = domaingdf.bounds\n",
    "domain =domaingdf.geometry.values[0]"
   ]
  },
  {
   "cell_type": "code",
   "execution_count": null,
   "id": "41ff3d80-fedb-48b0-aa38-c0b5963786ec",
   "metadata": {
    "tags": []
   },
   "outputs": [],
   "source": [
    "# Create a voronoi grid\n",
    "area_max = 30000.0**2\n",
    "tri = flopy.utils.triangle.Triangle(maximum_area=area_max, angle=34, model_ws=triangle_ws)\n",
    "tri.add_polygon(domain)\n",
    "tri.build(verbose=False)\n",
    "vor = flopy.utils.voronoi.VoronoiGrid(tri)\n",
    "vg_gridprops = vor.get_gridprops_vertexgrid()\n",
    "vg = flopy.discretization.VertexGrid(**vg_gridprops)\n",
    "vg.plot()"
   ]
  },
  {
   "cell_type": "code",
   "execution_count": null,
   "id": "01eb34c0-050c-4e93-9c58-5b29d5abb05b",
   "metadata": {
    "tags": []
   },
   "outputs": [],
   "source": [
    "# set constant heads around domain\n",
    "gi = flopy.utils.GridIntersect(vg)\n",
    "ls = LineString([p for p in domain.exterior.coords])\n",
    "chdspd = [[(0, j), 1.] for j in np.array(gi.intersects(ls)[\"cellids\"], dtype=int)]"
   ]
  },
  {
   "cell_type": "code",
   "execution_count": null,
   "id": "b9dac527-cb5d-46c5-99a3-213b3cb04986",
   "metadata": {
    "tags": []
   },
   "outputs": [],
   "source": [
    "# create the flopy representation of the MODFLOW simulation\n",
    "top = 50.\n",
    "botm = [-5000.]\n",
    "nlay = 1\n",
    "sim = flopy.mf6.MFSimulation(sim_name=name, sim_ws=ws, exe_name='mf6')\n",
    "tdis = flopy.mf6.ModflowTdis(sim)\n",
    "ims = flopy.mf6.ModflowIms(sim, print_option=\"all\", inner_maximum=100)\n",
    "gwf = flopy.mf6.ModflowGwf(sim, modelname=name, save_flows=True)\n",
    "disv = flopy.mf6.ModflowGwfdisv(\n",
    "    gwf, nlay=nlay, **vor.get_disv_gridprops(), top=top, botm=botm)\n",
    "ic = flopy.mf6.ModflowGwfic(gwf, strt=top)\n",
    "npf = flopy.mf6.ModflowGwfnpf(gwf, save_specific_discharge=True, icelltype=1)\n",
    "chd = flopy.mf6.ModflowGwfchd(gwf, stress_period_data=chdspd)\n",
    "rch = flopy.mf6.ModflowGwfrcha(gwf, recharge=0.0001)\n",
    "oc = flopy.mf6.ModflowGwfoc(gwf,\n",
    "                            budget_filerecord=f\"{name}.bud\",\n",
    "                            head_filerecord=f\"{name}.hds\",\n",
    "                            printrecord=[('HEAD', 'ALL'), ('BUDGET', 'ALL')],\n",
    "                            saverecord=[('HEAD', 'ALL'), ('BUDGET', 'ALL')])"
   ]
  },
  {
   "cell_type": "code",
   "execution_count": null,
   "id": "646d1253-137c-4de1-8f97-802aded3a66f",
   "metadata": {
    "tags": []
   },
   "outputs": [],
   "source": [
    "# write the MODFLOW input files\n",
    "sim.write_simulation()"
   ]
  },
  {
   "cell_type": "code",
   "execution_count": null,
   "id": "d70f8a48-5faf-4cd4-aca0-408395ff3aae",
   "metadata": {
    "tags": []
   },
   "outputs": [],
   "source": [
    "# run the MODFLOW simulation\n",
    "sim.run_simulation()"
   ]
  },
  {
   "cell_type": "code",
   "execution_count": null,
   "id": "46745b5e-6c50-4261-866b-0a05a5c7cedb",
   "metadata": {},
   "outputs": [],
   "source": [
    "# load the output from the simulation\n",
    "head = gwf.output.head().get_data()\n",
    "bud = gwf.output.budget()\n",
    "spdis = bud.get_data(text='DATA-SPDIS')[0]\n",
    "qx, qy, qz = flopy.utils.postprocessing.get_specific_discharge(spdis, gwf)"
   ]
  },
  {
   "cell_type": "code",
   "execution_count": null,
   "id": "a5b2efac-93dc-4eb0-8553-ecf23eef745b",
   "metadata": {
    "tags": []
   },
   "outputs": [],
   "source": [
    "# create a plot of the model results\n",
    "fig, axes = plt.subplots(2, 1, figsize=(8, 11))\n",
    "ax = axes[0]\n",
    "ax.set_title(\"Map View\")\n",
    "ax.set_aspect(1)\n",
    "ax.set_xlabel(\"x\")\n",
    "ax.set_ylabel(\"y\")\n",
    "pmv = flopy.plot.PlotMapView(gwf, ax=ax)\n",
    "pmv.plot_bc(ftype=\"CHD\")\n",
    "pmv.plot_grid(color=\"black\", linewidth=0.5)\n",
    "#pmv.plot_array(head)\n",
    "pmv.plot_vector(qx, qy, normalize=True, color=\"grey\", istep=1, jstep=1)\n",
    "pmv.contour_array(head)\n",
    "\n",
    "ax = axes[1]\n",
    "ax.set_title(\"Cross Section\")\n",
    "ax.set_aspect(10.)\n",
    "ax.set_xlabel(\"x\")\n",
    "ax.set_ylabel(\"z\")\n",
    "pxs = flopy.plot.PlotCrossSection(gwf, ax=ax, line={\"line\": [(1.5e6, 2.0e6), (1e6, 3.5e6)]})\n",
    "pxs.plot_bc(ftype=\"CHD\")\n",
    "pxs.plot_array(head, head=head)\n",
    "pxs.plot_grid(color=\"black\", linewidth=0.5)\n",
    "plt.tight_layout()"
   ]
  },
  {
   "cell_type": "code",
   "execution_count": null,
   "id": "b9e0cee6-95c3-47c6-8225-f9893c266256",
   "metadata": {},
   "outputs": [],
   "source": []
  }
 ],
 "metadata": {
  "kernelspec": {
   "display_name": "Python 3 (ipykernel)",
   "language": "python",
   "name": "python3"
  },
  "language_info": {
   "codemirror_mode": {
    "name": "ipython",
    "version": 3
   },
   "file_extension": ".py",
   "mimetype": "text/x-python",
   "name": "python",
   "nbconvert_exporter": "python",
   "pygments_lexer": "ipython3",
   "version": "3.11.8"
  }
 },
 "nbformat": 4,
 "nbformat_minor": 5
}
