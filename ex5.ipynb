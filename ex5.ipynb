{
 "cells": [
  {
   "cell_type": "markdown",
   "id": "762eaa15-c2f6-4603-8f11-e3dd2e851785",
   "metadata": {},
   "source": [
    "# Example 5 -- Local Grid Refinement"
   ]
  },
  {
   "cell_type": "code",
   "execution_count": null,
   "id": "0b99118e-779f-42ee-abd1-c678269651ea",
   "metadata": {
    "tags": []
   },
   "outputs": [],
   "source": [
    "# import Python packages used for this example\n",
    "import pathlib as pl\n",
    "import matplotlib.pyplot as plt\n",
    "import numpy as np\n",
    "from shapely.geometry import Polygon, LineString\n",
    "import flopy\n",
    "from flopy.utils.lgrutil import Lgr\n",
    "import geopandas as gp"
   ]
  },
  {
   "cell_type": "code",
   "execution_count": null,
   "id": "3e8fa12d-5608-4d99-baf9-b9449c1e8edd",
   "metadata": {
    "tags": []
   },
   "outputs": [],
   "source": [
    "domaingdf = gp.read_file('./data/ksa_outline.json').to_crs(8836)\n",
    "bounds = domaingdf.bounds\n",
    "domain =domaingdf.geometry.values[0]"
   ]
  },
  {
   "cell_type": "code",
   "execution_count": null,
   "id": "abe2469d-5f74-4fa3-9432-996adf31fc05",
   "metadata": {
    "tags": []
   },
   "outputs": [],
   "source": [
    "# define the model grid\n",
    "Lx = bounds.maxx.values[0]-bounds.minx.values[0]\n",
    "Ly = bounds.maxy.values[0]- bounds.miny.values[0]\n",
    "nlayp = 1\n",
    "nrowp = 35\n",
    "delcp = np.ceil(Ly / nrowp) * np.ones(nrowp, dtype=float)\n",
    "ncolp = np.ceil(Lx / delcp[0]).astype(int)\n",
    "delrp = delcp[0] * np.ones(ncolp, dtype=float)\n",
    "topp = 50 * np.ones((nrowp, ncolp), dtype=float)\n",
    "botmp = -150 * np.ones((nlayp, nrowp, ncolp), dtype=float)\n",
    "idomainp = np.ones((nlayp, nrowp, ncolp), dtype=int)\n",
    "\n",
    "# create modelgrid of parent\n",
    "sg = flopy.discretization.StructuredGrid(\n",
    "    nlay=nlayp,\n",
    "    nrow=nrowp,\n",
    "    ncol=ncolp,\n",
    "    delr=delrp,\n",
    "    delc=delcp,\n",
    "    top=topp,\n",
    "    botm=botmp,\n",
    "    xoff=bounds.minx.values[0],\n",
    "    yoff=bounds.miny.values[0],angrot=0, crs=8836\n",
    ")\n",
    "sg.plot()"
   ]
  },
  {
   "cell_type": "markdown",
   "id": "895e23a9-b87a-4028-8c09-59c5f8c1358c",
   "metadata": {},
   "source": [
    "## let's refine around the City of Riyadh again"
   ]
  },
  {
   "cell_type": "code",
   "execution_count": null,
   "id": "5641ebb9-64a0-476f-bfd5-9ab4babf25fb",
   "metadata": {},
   "outputs": [],
   "source": [
    "riyadh = gp.read_file('./data/citylocation.geojson').to_crs(domaingdf.crs)\n",
    "rbuf = riyadh.buffer(1e5)\n",
    "rbounds = rbuf.bounds\n",
    "rbounds"
   ]
  },
  {
   "cell_type": "code",
   "execution_count": null,
   "id": "ba0dfabd-a56e-48f5-8c80-ec4bda818cab",
   "metadata": {},
   "outputs": [],
   "source": [
    "gi = flopy.utils.GridIntersect(sg)\n",
    "insetlox = gi.intersect(rbuf.geometry[0])\n",
    "for i,j in insetlox.cellids:\n",
    "    idomainp[:,i,j]=0"
   ]
  },
  {
   "cell_type": "code",
   "execution_count": null,
   "id": "70669e12-aa48-48ea-8584-2f3bc203df07",
   "metadata": {
    "tags": []
   },
   "outputs": [],
   "source": [
    "# create a flopy Lgr object for constructing a child grid\n",
    "lgr = Lgr(\n",
    "    nlayp,\n",
    "    nrowp,\n",
    "    ncolp,\n",
    "    delrp,\n",
    "    delcp,\n",
    "    topp,\n",
    "    botmp,\n",
    "    idomainp,\n",
    "    ncpp=1,\n",
    "    ncppl=[1],\n",
    "    xllp=bounds.minx.values[0],\n",
    "    yllp=bounds.miny.values[0]\n",
    ")\n",
    "\n",
    "# build an idomain array for the parent grid\n",
    "idomain = np.zeros((nlayp, nrowp, ncolp), dtype=int)\n",
    "gi = flopy.utils.GridIntersect(sg)\n",
    "\n",
    "# inside domain polygon\n",
    "ixp = gi.intersect(domain)\n",
    "for i, j in ixp[\"cellids\"]:\n",
    "    idomain[:, i, j] = 1\n",
    "\n",
    "# touching domain polygon\n",
    "ls = LineString([p for p in domain.exterior.coords])    \n",
    "ixl = gi.intersect(ls)\n",
    "for i, j in ixl[\"cellids\"]:\n",
    "    idomain[:, i, j] = 2\n",
    "    \n",
    "idomain[np.where(idomainp == 0)] = 0\n",
    "\n",
    "# make a plot\n",
    "pmv = flopy.plot.PlotMapView(modelgrid=sg)\n",
    "pmv.plot_grid()\n",
    "cb = pmv.plot_array(idomain)\n",
    "plt.colorbar(cb, shrink=.5)"
   ]
  },
  {
   "cell_type": "code",
   "execution_count": null,
   "id": "3fec0a07-5556-411b-abea-1a5c677c3845",
   "metadata": {
    "tags": []
   },
   "outputs": [],
   "source": [
    "# create the flopy representation of the MODFLOW simulation\n",
    "ws = './ex5'\n",
    "name = 'mymodel'\n",
    "sim = flopy.mf6.MFSimulation(sim_name=name, sim_ws=ws, exe_name='mf6')\n",
    "tdis = flopy.mf6.ModflowTdis(sim)\n",
    "ims = flopy.mf6.ModflowIms(sim)\n",
    "\n",
    "# parent model\n",
    "name = \"parent\"\n",
    "gwf = flopy.mf6.ModflowGwf(sim, modelname=name, save_flows=True)\n",
    "dis = flopy.mf6.ModflowGwfdis(\n",
    "    gwf, \n",
    "    nlay=nlayp, \n",
    "    nrow=nrowp, \n",
    "    ncol=ncolp, \n",
    "    delr=delrp, \n",
    "    delc=delcp,\n",
    "    top=topp,\n",
    "    botm=botmp,\n",
    "    idomain=idomain,\n",
    ")\n",
    "ic = flopy.mf6.ModflowGwfic(gwf)\n",
    "npf = flopy.mf6.ModflowGwfnpf(gwf, save_specific_discharge=True, icelltype=1)\n",
    "chdspd = [[(0, *j), 100.] for j in ixl[\"cellids\"]]\n",
    "chd = flopy.mf6.ModflowGwfchd(gwf, stress_period_data=chdspd)\n",
    "rch = flopy.mf6.ModflowGwfrcha(gwf, recharge=0.0001)\n",
    "budget_file = name + '.bud'\n",
    "head_file = name + '.hds'\n",
    "oc = flopy.mf6.ModflowGwfoc(gwf,\n",
    "                            budget_filerecord=budget_file,\n",
    "                            head_filerecord=head_file,\n",
    "                            saverecord=[('HEAD', 'ALL'), ('BUDGET', 'ALL')])\n",
    "gwf_parent = gwf\n",
    "\n",
    "# child model\n",
    "name = \"child\"\n",
    "gwf = flopy.mf6.ModflowGwf(sim, modelname=name, \n",
    "                           save_flows=True)\n",
    "dis = flopy.mf6.ModflowGwfdis(\n",
    "    gwf, \n",
    "    nlay=lgr.nlay, \n",
    "    nrow=lgr.nrow, \n",
    "    ncol=lgr.ncol, \n",
    "    delr=lgr.delr, \n",
    "    delc=lgr.delc,\n",
    "    top=lgr.top,\n",
    "    botm=lgr.botm,\n",
    "    xorigin=lgr.xll,\n",
    "    yorigin=lgr.yll,\n",
    ")\n",
    "ic = flopy.mf6.ModflowGwfic(gwf)\n",
    "npf = flopy.mf6.ModflowGwfnpf(gwf, save_specific_discharge=True, icelltype=1)\n",
    "rch = flopy.mf6.ModflowGwfrcha(gwf, recharge=0.1)\n",
    "budget_file = name + '.bud'\n",
    "head_file = name + '.hds'\n",
    "oc = flopy.mf6.ModflowGwfoc(gwf,\n",
    "                            budget_filerecord=budget_file,\n",
    "                            head_filerecord=head_file,\n",
    "                            printrecord=[('HEAD', 'ALL'), ('BUDGET', 'ALL')],\n",
    "                            saverecord=[('HEAD', 'ALL'), ('BUDGET', 'ALL')],\n",
    ")\n",
    "gwf_child = gwf\n",
    "\n",
    "# setup the exchange, which connects the parent and child models\n",
    "exchangedata = lgr.get_exchange_data(\n",
    "    angldegx=True, \n",
    "    cdist=True\n",
    ")\n",
    "exg = flopy.mf6.ModflowGwfgwf(sim, \n",
    "                        exgmnamea=\"parent\",\n",
    "                        exgmnameb=\"child\",\n",
    "                        xt3d=True,\n",
    "                        nexg=len(exchangedata),\n",
    "                        auxiliary=[\"ANGLDEGX\", \"CDIST\"],\n",
    "                        exchangedata=exchangedata)"
   ]
  },
  {
   "cell_type": "code",
   "execution_count": null,
   "id": "9e6185d2-b1e2-4efc-a979-a370e680bdfa",
   "metadata": {
    "tags": []
   },
   "outputs": [],
   "source": [
    "# write the MODFLOW input files\n",
    "sim.write_simulation()"
   ]
  },
  {
   "cell_type": "code",
   "execution_count": null,
   "id": "c577c380-f971-4157-ae3f-c45a97cd35f2",
   "metadata": {
    "tags": []
   },
   "outputs": [],
   "source": [
    "# run the MODFLOW simulation\n",
    "sim.run_simulation()"
   ]
  },
  {
   "cell_type": "code",
   "execution_count": null,
   "id": "285d5abc-ac4e-44f9-b9f8-ad189ad83f63",
   "metadata": {
    "tags": []
   },
   "outputs": [],
   "source": [
    "# create a plot of the simulation results\n",
    "fig, axes = plt.subplots(2, 1, figsize=(8, 11))\n",
    "ax = axes[0]\n",
    "ax.set_title(\"Map View\")\n",
    "ax.set_aspect(1)\n",
    "ax.set_xlabel(\"x\")\n",
    "ax.set_ylabel(\"y\")\n",
    "\n",
    "for igrid, gwf in enumerate([gwf_parent, gwf_child]):\n",
    "    head = gwf.output.head().get_data()\n",
    "    bud = gwf.output.budget()\n",
    "    spdis = bud.get_data(text='DATA-SPDIS')[0]\n",
    "    qx, qy, qz = flopy.utils.postprocessing.get_specific_discharge(spdis, gwf)\n",
    "\n",
    "    pmv = flopy.plot.PlotMapView(gwf, ax=ax)\n",
    "    if igrid == 0:\n",
    "        # parent\n",
    "        pmv.plot_inactive(color_noflow=\"gray\")\n",
    "        pmv.plot_bc(ftype=\"CHD\")\n",
    "        pmv.plot_vector(qx, qy, normalize=True, color=\"black\")\n",
    "    if igrid == 1:\n",
    "        # child\n",
    "        c = pmv.plot_array(head, masked_values=[1.e30])\n",
    "    pmv.plot_grid(colors='black', linewidths=0.5)\n",
    "    pmv.contour_array(head, colors=\"blue\")\n",
    "ax.set_xlim(0, 10000)\n",
    "ax.set_ylim(0, 8000)\n",
    "\n",
    "ax = axes[1]\n",
    "ax.set_title(\"Cross Section\")\n",
    "ax.set_aspect(10.)\n",
    "ax.set_xlabel(\"x\")\n",
    "ax.set_ylabel(\"z\")\n",
    "for igrid, gwf in enumerate([gwf_parent, gwf_child]):\n",
    "    head = gwf.output.head().get_data()\n",
    "    bud = gwf.output.budget()\n",
    "    spdis = bud.get_data(text='DATA-SPDIS')[0]\n",
    "    qx, qy, qz = flopy.utils.postprocessing.get_specific_discharge(spdis, gwf)\n",
    "    # pxs = flopy.plot.PlotCrossSection(gwf, ax=ax, line={\"line\": [(0, 5000), (10000, 5000)]}, geographic_coords=True)\n",
    "    # if igrid == 0:\n",
    "    #     pxs.plot_inactive(color_noflow=\"gray\")\n",
    "    # c = pxs.plot_array(head, masked_values=[1.e30], head=head)\n",
    "    # pxs.plot_grid(colors='black', linewidths=0.5)\n",
    "# ax.set_xlim(0, 10000)\n",
    "# ax.set_ylim(-100, 50)\n",
    "plt.tight_layout()"
   ]
  },
  {
   "cell_type": "code",
   "execution_count": null,
   "id": "4dd388a9-34b8-4ddc-8618-d6bae4871e40",
   "metadata": {},
   "outputs": [],
   "source": []
  }
 ],
 "metadata": {
  "kernelspec": {
   "display_name": "Python 3 (ipykernel)",
   "language": "python",
   "name": "python3"
  },
  "language_info": {
   "codemirror_mode": {
    "name": "ipython",
    "version": 3
   },
   "file_extension": ".py",
   "mimetype": "text/x-python",
   "name": "python",
   "nbconvert_exporter": "python",
   "pygments_lexer": "ipython3",
   "version": "3.11.8"
  }
 },
 "nbformat": 4,
 "nbformat_minor": 5
}
